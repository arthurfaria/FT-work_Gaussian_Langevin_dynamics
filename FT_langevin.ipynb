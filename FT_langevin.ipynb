{
 "cells": [
  {
   "cell_type": "markdown",
   "metadata": {},
   "source": [
    "# Work Fluctuation Theorem for a gaussian Langevin eq."
   ]
  },
  {
   "cell_type": "code",
   "execution_count": 1,
   "metadata": {},
   "outputs": [],
   "source": [
    "import pylab as plt\n",
    "import numpy as np\n",
    "import time as tm \n",
    "from sys import argv"
   ]
  },
  {
   "cell_type": "markdown",
   "metadata": {},
   "source": [
    "### Definitions and functions"
   ]
  },
  {
   "cell_type": "code",
   "execution_count": 2,
   "metadata": {},
   "outputs": [],
   "source": [
    "# Gaussian estimator\n",
    "\n",
    "def gaussian_func(x, M, V):\n",
    "    denominator = np.sqrt(2*np.pi*V)\n",
    "    numerator = np.exp(-((x-M)**2)/(2*V))\n",
    "    return numerator/denominator"
   ]
  },
  {
   "cell_type": "code",
   "execution_count": 3,
   "metadata": {},
   "outputs": [],
   "source": [
    "#Harmonic force and internal energy\n",
    "\n",
    "def energy_force(x, t, *args):\n",
    "    v0 = args[0]\n",
    "    ks = args[1]\n",
    "    F = -ks*(x - v0*t)\n",
    "    U = (ks/2)*abs(x-v0*t)**2\n",
    "    \n",
    "    return F, U\n",
    "\n",
    "\n",
    "# Return the time length\n",
    "\n",
    "def time_len(tMax, dt):\n",
    "\n",
    "    t = 0\n",
    "    L = []\n",
    "    \n",
    "    while(t<tMax):\n",
    "        L.append(t)\n",
    "        t += dt\n",
    "\n",
    "    return len(L)"
   ]
  },
  {
   "cell_type": "markdown",
   "metadata": {},
   "source": [
    "### Stochastic evolution BAOAB\n",
    "\n",
    "for further explanation, read: https://aip.scitation.org/doi/abs/10.1063/1.4802990"
   ]
  },
  {
   "cell_type": "code",
   "execution_count": 4,
   "metadata": {},
   "outputs": [],
   "source": [
    "def position_update(x,v,dt):\n",
    "    x_new = x + v*dt/2.\n",
    "    return x_new\n",
    "\n",
    "def velocity_update(v,F,dt):\n",
    "    v_new = v + F*dt/2.\n",
    "    return v_new\n",
    "\n",
    "def random_velocity_update(v,gamma,kBT,dt):\n",
    "    R = np.random.normal()\n",
    "    c1 = np.exp(-gamma*dt)\n",
    "    c2 = np.sqrt(1-np.exp(-2*gamma*dt))*np.sqrt(kBT)\n",
    "    v_new = c1*v + c2*R\n",
    "    return v_new\n",
    "\n",
    "\n",
    "def BAOAB_method(x_init, v_init, v0, tMax, dt, gamma, kBT, ks):\n",
    "    \n",
    "    x = x_init\n",
    "    v = v_init\n",
    "    t = 0\n",
    "    \n",
    "    pos = []\n",
    "    time = []\n",
    "    dwork = []\n",
    "    \n",
    "    _, Ui = energy_force(x, t, v0, ks)\n",
    "    \n",
    "    while(t<tMax):\n",
    "        \n",
    "        ##################\n",
    "        # part B\n",
    "        F, _ = energy_force(x, t, v0, ks)\n",
    "        v = velocity_update(v,F,dt)\n",
    "        \n",
    "        # part A\n",
    "        x = position_update(x,v,dt)\n",
    "        \n",
    "        # part O\n",
    "        v = random_velocity_update(v,gamma,kBT,dt)\n",
    "        \n",
    "        # part A\n",
    "        x = position_update(x,v,dt)\n",
    "    \n",
    "        # part B\n",
    "        F, _ = energy_force(x, t, v0, ks)\n",
    "        v = velocity_update(v,F,dt)\n",
    "        ##################\n",
    "        \n",
    "    \n",
    "        # work per trajectory calculation\n",
    "        \n",
    "        F, _ = energy_force(x, t, v0, ks)\n",
    "        dw = v0*F\n",
    "            \n",
    "        pos.append(x)\n",
    "        time.append(t)\n",
    "        dwork.append(dw)\n",
    "        \n",
    "        t += dt\n",
    "       \n",
    "        if t >= tMax//2 :\n",
    "            v0 = 0\n",
    "            \n",
    "    _, Uf = energy_force(x, t, v0, ks)\n",
    "    \n",
    "    dU = (Uf - Ui)\n",
    "    \n",
    "    return time, dwork, dU   #return: dif internal energy, elapsed time, dif work"
   ]
  },
  {
   "cell_type": "markdown",
   "metadata": {},
   "source": [
    "### Time evolution for the work variable"
   ]
  },
  {
   "cell_type": "code",
   "execution_count": 5,
   "metadata": {},
   "outputs": [
    {
     "name": "stdout",
     "output_type": "stream",
     "text": [
      "1796.0150220394135\n"
     ]
    }
   ],
   "source": [
    "###################### MAIN #############################\n",
    "\n",
    "# Parameters and time\n",
    "\n",
    "v0 = 0.2\n",
    "ks = 2.0\n",
    "gamma = 5.0 \n",
    "kBT = 1.0\n",
    "dt = 0.01\n",
    "tMax = 100  \n",
    "\n",
    "\n",
    "# Sample conditions\n",
    "\n",
    "N = 10**4 #int(argv[1])\n",
    "x_init = 0.3\n",
    "v_init = 0.\n",
    "\n",
    "\n",
    "# Work vector definition and extras\n",
    "\n",
    "w = np.zeros(N)\n",
    "\n",
    "start = tm.time()\n",
    "\n",
    "########### Work ###########\n",
    "\n",
    "# Stochastic evolution and work for each trajectory in a sample\n",
    "\n",
    "for ii in range(N): \n",
    "\n",
    "    time, dwork, dU = BAOAB_method(x_init, v_init, v0, tMax, dt, gamma, kBT, ks)\n",
    "\n",
    "    w[ii] = (1/kBT)*np.trapz(dwork, time)\n",
    "    \n",
    "\n",
    "# Statistics\n",
    "\n",
    "mean_w = np.mean(w)\n",
    "var_w = np.var(w)\n",
    "\n",
    "#########################################################\n",
    "\n",
    "end = tm.time()\n",
    "print(end-start)"
   ]
  },
  {
   "cell_type": "markdown",
   "metadata": {},
   "source": [
    "### Exporting or getting data"
   ]
  },
  {
   "cell_type": "code",
   "execution_count": 6,
   "metadata": {},
   "outputs": [],
   "source": [
    "############ Exporting data ################\n",
    "\n",
    "#output = np.array([w, q])\n",
    "\n",
    "#data_path = \"/home/fariaart/Dropbox/FT_data_%s.txt\" %N\n",
    "#data_path = \"/home/des01/mbonanca/fariaart/Resultados/Doutorado/Lutz/FT-80_data_%s.txt\" %N\n",
    "#with open(data_path , \"w+\") as data:\n",
    "    #np.savetxt(data, output.T, fmt='%f')\n",
    "    \n",
    "\n",
    "############ Getting data ################\n",
    "\n",
    "#data = np.loadtxt(\"/home/fariaart/Dropbox/Pesquisa/Doutorado/Lutz/dados/FT/FT_data_100000.txt\", float)\n",
    "#w0 = data[:,0]\n",
    "#q0 = data[:,1]\n",
    "\n",
    "#mean_w0 = np.mean(w0)\n",
    "#var_w0 = np.var(w0)\n",
    "\n",
    "#mean_q0 = np.mean(q0)\n",
    "#var_q0 = np.var(q0)"
   ]
  },
  {
   "cell_type": "markdown",
   "metadata": {},
   "source": [
    "### Plots of \n",
    "\n",
    "* $\\rho\\,(W_{\\tau})$\n",
    "* $\\left.\\rho\\,(W_{\\tau})\\, \\right /\\, \\rho\\,(-W_{\\tau})$"
   ]
  },
  {
   "cell_type": "code",
   "execution_count": 7,
   "metadata": {},
   "outputs": [
    {
     "name": "stderr",
     "output_type": "stream",
     "text": [
      "/tmp/ipykernel_19048/246970912.py:26: RuntimeWarning: divide by zero encountered in true_divide\n",
      "  n_d = n/reverse_n\n",
      "/tmp/ipykernel_19048/246970912.py:26: RuntimeWarning: invalid value encountered in true_divide\n",
      "  n_d = n/reverse_n\n",
      "/tmp/ipykernel_19048/246970912.py:27: RuntimeWarning: divide by zero encountered in log\n",
      "  div = np.log(n_d)\n"
     ]
    },
    {
     "data": {
      "text/plain": [
       "<Figure size 432x288 with 0 Axes>"
      ]
     },
     "execution_count": 7,
     "metadata": {},
     "output_type": "execute_result"
    },
    {
     "data": {
      "image/png": "[encoded data removed]",
      "text/plain": [
       "<Figure size 432x288 with 1 Axes>"
      ]
     },
     "metadata": {
      "needs_background": "light"
     },
     "output_type": "display_data"
    },
    {
     "data": {
      "image/png": "[encoded data removed]",
      "text/plain": [
       "<Figure size 432x288 with 1 Axes>"
      ]
     },
     "metadata": {
      "needs_background": "light"
     },
     "output_type": "display_data"
    },
    {
     "data": {
      "text/plain": [
       "<Figure size 432x288 with 0 Axes>"
      ]
     },
     "metadata": {},
     "output_type": "display_data"
    }
   ],
   "source": [
    "n_bins = 100 \n",
    "\n",
    "########## Work Histogram and Analitical curve ##########\n",
    "\n",
    "n, bins, patches = plt.hist(w, color = (0.165, 0.52, 0.87), range = (-35.,35.), histtype='bar', linewidth=4, alpha= 0.4, ec=(0.165, 0.52, 0.87), bins= n_bins, density=True,  label = 'num')\n",
    "\n",
    "x = np.linspace(bins[0], bins[n_bins], len(w))\n",
    "\n",
    "func = gaussian_func(x, mean_w, var_w)\n",
    "plt.plot(x, func, linestyle = '--', color =  'darkblue', linewidth = 3.0, label = 'an')\n",
    "\n",
    "\n",
    "# Settings\n",
    "\n",
    "plt.xlabel(r'$W_{\\tau}$', fontsize = 12, labelpad = 4)\n",
    "plt.ylabel(r'$\\rho\\,(W_{\\tau})$', fontsize = 12, labelpad = 2)\n",
    "plt.legend(loc='upper right')\n",
    "plt.figure()\n",
    "\n",
    "\n",
    "########### W Division Histogram ###########\n",
    "\n",
    "#reversing the freq vector\n",
    "\n",
    "reverse_n = n[::-1]\n",
    "n_d = n/reverse_n\n",
    "div = np.log(n_d)\n",
    "\n",
    "\n",
    "plt.plot(bins[:-1], div, 'o', color = \"darkblue\", label = 'num')\n",
    "plt.plot(bins[:-1],bins[:-1], color = \"red\",   linestyle = '--', linewidth = 2.0, label = 'an')\n",
    "\n",
    "# Settings\n",
    "\n",
    "plt.xlabel(r'$W_{\\tau}$', fontsize = 12, labelpad = 4)\n",
    "plt.ylabel(r'$\\rho\\,(W_{\\tau})\\, /\\, \\rho\\,(-W_{\\tau})$', fontsize = 12, labelpad = 4)\n",
    "plt.xlim(-7.5,7.5)\n",
    "\n",
    "plt.legend(loc='upper left')\n",
    "plt.figure()"
   ]
  }
 ],
 "metadata": {
  "kernelspec": {
   "display_name": "Python 3 (ipykernel)",
   "language": "python",
   "name": "python3"
  },
  "language_info": {
   "codemirror_mode": {
    "name": "ipython",
    "version": 3
   },
   "file_extension": ".py",
   "mimetype": "text/x-python",
   "name": "python",
   "nbconvert_exporter": "python",
   "pygments_lexer": "ipython3",
   "version": "3.8.10"
  }
 },
 "nbformat": 4,
 "nbformat_minor": 2
}
