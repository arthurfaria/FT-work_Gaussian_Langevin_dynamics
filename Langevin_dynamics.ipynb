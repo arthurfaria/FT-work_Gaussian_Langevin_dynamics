{
 "cells": [
  {
   "cell_type": "markdown",
   "metadata": {},
   "source": [
    "# Gaussian Langevin eq."
   ]
  },
  {
   "cell_type": "code",
   "execution_count": 1,
   "metadata": {},
   "outputs": [],
   "source": [
    "import pylab as plt\n",
    "import numpy as np\n",
    "import time as tm \n",
    "from sys import argv"
   ]
  },
  {
   "cell_type": "markdown",
   "metadata": {},
   "source": [
    "### Definitions and functions\n"
   ]
  },
  {
   "cell_type": "code",
   "execution_count": 2,
   "metadata": {},
   "outputs": [],
   "source": [
    "# Harmonic force\n",
    "\n",
    "def force(x, *args):\n",
    "    x0 = 0.\n",
    "    ks = args[0]\n",
    "    f = -ks*(x)\n",
    "    return f\n",
    "\n",
    "\n",
    "# Return the time lenght\n",
    "\n",
    "def Time_len(tMax, dt):\n",
    "\n",
    "    t = 0\n",
    "    L = []\n",
    "    \n",
    "    while(t<tMax):\n",
    "        L.append(t)\n",
    "        t += dt\n",
    "\n",
    "    return len(L)"
   ]
  },
  {
   "cell_type": "markdown",
   "metadata": {},
   "source": [
    "### Stochastic evolution BAOAB\n",
    "\n",
    "for further explanation, read: https://aip.scitation.org/doi/abs/10.1063/1.4802990"
   ]
  },
  {
   "cell_type": "code",
   "execution_count": 3,
   "metadata": {},
   "outputs": [],
   "source": [
    "def position_update(x,v,dt):\n",
    "    x_dt = x + v*dt/2.\n",
    "    return x_dt\n",
    "\n",
    "def velocity_update(v,F,dt):\n",
    "    v_dt = v + F*dt/2.\n",
    "    return v_dt\n",
    "\n",
    "def random_velocity_update(v,gamma,kBT,dt):\n",
    "    R = np.random.normal()\n",
    "    c1 = np.exp(-gamma*dt)\n",
    "    c2 = np.sqrt(1-np.exp(-2*gamma*dt))*np.sqrt(kBT)\n",
    "    v_dt = c1*v + c2*R\n",
    "    return v_dt\n",
    "\n",
    "\n",
    "def BAOAB_method(x_init, v_init, tMax, dt, gamma, kBT, ks):\n",
    "    \n",
    "    x = x_init\n",
    "    v = v_init\n",
    "    t = 0\n",
    "    pos = []\n",
    "    time = []\n",
    "    \n",
    "    while(t<tMax):\n",
    "        \n",
    "        # part B\n",
    "        F = force(x, ks)\n",
    "        v = velocity_update(v,F,dt)\n",
    "        \n",
    "        # part a\n",
    "        x = position_update(x,v,dt)\n",
    "        \n",
    "        # part O\n",
    "        v = random_velocity_update(v,gamma,kBT,dt)\n",
    "        \n",
    "        # part A\n",
    "        x = position_update(x,v,dt)\n",
    "    \n",
    "        # part B\n",
    "        F = force(x, ks)\n",
    "        v = velocity_update(v,F,dt)\n",
    "        \n",
    "        pos.append(x)\n",
    "        time.append(t)\n",
    "        \n",
    "        t += dt\n",
    "    \n",
    "    return time, pos "
   ]
  },
  {
   "cell_type": "markdown",
   "metadata": {},
   "source": [
    "### Time evolution for position $x$"
   ]
  },
  {
   "cell_type": "code",
   "execution_count": 4,
   "metadata": {},
   "outputs": [
    {
     "name": "stdout",
     "output_type": "stream",
     "text": [
      "816.0889053344727\n"
     ]
    }
   ],
   "source": [
    "###################### MAIN #############################\n",
    "\n",
    "# Parameters and time\n",
    "\n",
    "ks = 2\n",
    "gamma = 1 #gamma**2 >> 4*k overdamped\n",
    "kBT = 1.0\n",
    "\n",
    "dt = 0.01\n",
    "tMax = 50\n",
    "\n",
    "# Sample conditions\n",
    "\n",
    "N = 10**4 #int(argv[1])\n",
    "x_init = 0.3\n",
    "v_init = 0.\n",
    "\n",
    "####################################\n",
    "\n",
    "# Extras\n",
    "\n",
    "M_x = np.zeros(Time_len(tMax, dt))\n",
    "M_x2 = np.zeros(Time_len(tMax, dt))\n",
    "\n",
    "#########################################################\n",
    "\n",
    "start = tm.time()\n",
    "\n",
    "# Stochastic evolution for each in the sample\n",
    "\n",
    "for ii in range(N):    \n",
    "\n",
    "    time, position = BAOAB_method(x_init, v_init, tMax, dt, gamma, kBT, ks)\n",
    "        \n",
    "    M_x = M_x + np.array(position)\n",
    "    M_x2 = M_x2 + np.power(position,2)\n",
    "\n",
    "t = np.array(time)\n",
    "\n",
    "\n",
    "### Statistics\n",
    "\n",
    "# Mean\n",
    "M_x = M_x/N\n",
    "M_x2 = M_x2/N\n",
    "\n",
    "# Variance\n",
    "Var_x = M_x2 - M_x**2\n",
    "\n",
    "#########################################################\n",
    "\n",
    "end = tm.time()\n",
    "print(end-start)"
   ]
  },
  {
   "cell_type": "markdown",
   "metadata": {},
   "source": [
    "### Exporting or getting data\n"
   ]
  },
  {
   "cell_type": "code",
   "execution_count": 5,
   "metadata": {},
   "outputs": [],
   "source": [
    "############ Exporting data ################\n",
    "\n",
    "#output = np.array([M_x2, M_x, t])\n",
    "\n",
    "#data_path = \"/home/fariaart/Dropbox/data_%s.txt\" %N\n",
    "#data_path = \"/home/des01/mbonanca/fariaart/Resultados/Doutorado/Lutz/over_data_%s.txt\" %N\n",
    "#with open(data_path , \"w+\") as data:\n",
    "    #np.savetxt(data, output.T, fmt='%f')\n"
   ]
  },
  {
   "cell_type": "markdown",
   "metadata": {},
   "source": [
    "### Plots of \n",
    "\n",
    "* Mean value $\\langle x \\rangle$\n",
    "* Variance $\\left<x^2\\right> - \\left<x\\right>^2$"
   ]
  },
  {
   "cell_type": "code",
   "execution_count": 6,
   "metadata": {},
   "outputs": [
    {
     "data": {
      "text/plain": [
       "<Figure size 432x288 with 0 Axes>"
      ]
     },
     "execution_count": 6,
     "metadata": {},
     "output_type": "execute_result"
    },
    {
     "data": {
      "image/png": "[encoded data removed]",
      "text/plain": [
       "<Figure size 432x288 with 1 Axes>"
      ]
     },
     "metadata": {
      "needs_background": "light"
     },
     "output_type": "display_data"
    },
    {
     "data": {
      "image/png": "[encoded data removed]",
      "text/plain": [
       "<Figure size 432x288 with 1 Axes>"
      ]
     },
     "metadata": {
      "needs_background": "light"
     },
     "output_type": "display_data"
    },
    {
     "data": {
      "text/plain": [
       "<Figure size 432x288 with 0 Axes>"
      ]
     },
     "metadata": {},
     "output_type": "display_data"
    }
   ],
   "source": [
    "############ Plotting data ################\n",
    "\n",
    "# Variance plot\n",
    "\n",
    "plt.plot(t, Var_x, label= 'num' )\n",
    "\n",
    "plt.ylabel(r' $\\left<x^2\\right> - \\left<x\\right>^2$', fontsize = 12)\n",
    "plt.xlabel(r' $t$', fontsize = 12)\n",
    "\n",
    "plt.legend(loc='lower center')\n",
    "#plt.savefig('/home/fariaart/Dropbox/Pesquisa/Doutorado/Lutz/figuras/var_mean_over_kk/HO_brown/under_2_1.png', transparent=False)\n",
    "plt.figure()\n",
    "\n",
    "\n",
    "# Mean value plot\n",
    "\n",
    "plt.plot(t, M_x, label= 'num' )\n",
    "\n",
    "plt.ylabel(r' $\\left<x\\right> $', fontsize = 12)\n",
    "plt.xlabel(r' $t$', fontsize = 12)\n",
    "#plt.ylim(-0.07,0.07)\n",
    "\n",
    "plt.legend(loc='upper center')\n",
    "#plt.savefig('/home/fariaart/Dropbox/Pesquisa/Doutorado/Lutz/figuras/var_mean_over_kk/HO_brown/under_2_2.png', transparent=False)\n",
    "plt.figure()"
   ]
  },
  {
   "cell_type": "code",
   "execution_count": null,
   "metadata": {},
   "outputs": [],
   "source": []
  }
 ],
 "metadata": {
  "kernelspec": {
   "display_name": "Python 3 (ipykernel)",
   "language": "python",
   "name": "python3"
  },
  "language_info": {
   "codemirror_mode": {
    "name": "ipython",
    "version": 3
   },
   "file_extension": ".py",
   "mimetype": "text/x-python",
   "name": "python",
   "nbconvert_exporter": "python",
   "pygments_lexer": "ipython3",
   "version": "3.8.10"
  }
 },
 "nbformat": 4,
 "nbformat_minor": 2
}
